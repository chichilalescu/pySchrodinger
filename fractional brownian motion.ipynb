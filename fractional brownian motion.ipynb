{
 "metadata": {
  "name": "",
  "signature": "sha256:923ebe79c6a42fc9744b55f5d73af09719c66b6cb8abea0be36362b4faa1fd36"
 },
 "nbformat": 3,
 "nbformat_minor": 0,
 "worksheets": [
  {
   "cells": [
    {
     "cell_type": "code",
     "collapsed": false,
     "input": [
      "import numpy as np"
     ],
     "language": "python",
     "metadata": {},
     "outputs": [],
     "prompt_number": 1
    },
    {
     "cell_type": "code",
     "collapsed": false,
     "input": [
      "def derivative(x, mu):\n",
      "  \"\"\"\n",
      "  Fourier-based Fractional Derivative.\n",
      "\n",
      "  Parameters:\n",
      "  -----------\n",
      "\n",
      "    x : 1D array like\n",
      "\n",
      "    mu : *float*, real number, order of the derivative\n",
      "  \"\"\"\n",
      "  n = len(x)\n",
      "  xx = np.append( np.append( (x[1:n/2+1][::-1]), x ), x[-n/2-1:-1][::-1] ) # boundaries\n",
      "  nn = 2 * n\n",
      "  xft = np.fft.fft(xx)\n",
      "  omega = np.fft.fftfreq(nn, d = 1./n) * 2 *np.pi\n",
      "  y = np.nan_to_num(( omega * 1j) ** mu)\n",
      "  y[0] = 0.\n",
      "  dxdt = np.real(np.fft.ifft( y * xft ))\n",
      "  dxdt = dxdt[n/2:-n/2]\n",
      "  return dxdt\n",
      "  \n",
      "def fgm(n, H = 0.75):\n",
      "  \"\"\"\n",
      "  Fractional Gaussian Motion.\n",
      "\n",
      "  Parameters:\n",
      "  ------------\n",
      "\n",
      "    n: *integer*, number of samples\n",
      "\n",
      "    H: *float*, Hurst exponent 0 < H < 1\n",
      "\n",
      "  \"\"\"\n",
      "\n",
      "  mu = 0.5 - H\n",
      "  x = derivative( np.random.randn(n), mu)\n",
      "  x -= x.mean()\n",
      "  return x/x.std()\n",
      "\n",
      "def fbm(n, H = 0.75):\n",
      "  \"\"\"\n",
      "  Fractional Brownian Motion.\n",
      "\n",
      "  Parameters:\n",
      "  -----------\n",
      "\n",
      "    n : *integer*, number of samples\n",
      "\n",
      "    H : *float*, Hurst exponent 0 < H < 1\n",
      "\n",
      "  \"\"\"\n",
      "\n",
      "  x = derivative(fgm(n, H), -1.)\n",
      "  x -= np.mean(x)\n",
      "  return x/x.std()\n"
     ],
     "language": "python",
     "metadata": {},
     "outputs": [],
     "prompt_number": 3
    },
    {
     "cell_type": "code",
     "collapsed": false,
     "input": [
      "fbm(30, H = 1.3)"
     ],
     "language": "python",
     "metadata": {},
     "outputs": [
      {
       "metadata": {},
       "output_type": "pyout",
       "prompt_number": 6,
       "text": [
        "array([ 1.94400916,  1.84898358,  1.42312084,  1.1063589 ,  0.52900926,\n",
        "       -0.10790328, -0.38282509, -0.97505313, -1.15897144, -0.78857583,\n",
        "       -0.87403769, -1.03586535, -1.06462064, -1.20288544, -1.04700673,\n",
        "       -0.81536632, -0.69768281, -0.68923395, -0.78379808, -0.87579646,\n",
        "       -0.56875423, -0.30605567, -0.02445616,  0.43133982,  0.58415712,\n",
        "        0.7734546 ,  0.86554018,  0.90978904,  1.25945107,  1.72367472])"
       ]
      }
     ],
     "prompt_number": 6
    },
    {
     "cell_type": "code",
     "collapsed": false,
     "input": [
      "import pylab as pl\n",
      "import numpy as np\n",
      "\n",
      "X = np.linspace(-np.pi, np.pi, 256, endpoint=True)\n",
      "C = fbm(len(X), H = 1.1)\n",
      "\n",
      "pl.plot(X, C)\n",
      "\n",
      "pl.show()"
     ],
     "language": "python",
     "metadata": {},
     "outputs": [],
     "prompt_number": 17
    },
    {
     "cell_type": "code",
     "collapsed": false,
     "input": [],
     "language": "python",
     "metadata": {},
     "outputs": []
    }
   ],
   "metadata": {}
  }
 ]
}